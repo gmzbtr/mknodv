{
  "nbformat": 4,
  "nbformat_minor": 0,
  "metadata": {
    "colab": {
      "provenance": []
    },
    "kernelspec": {
      "name": "python3",
      "display_name": "Python 3"
    },
    "language_info": {
      "name": "python"
    }
  },
  "cells": [
    {
      "cell_type": "code",
      "source": [
        "import pandas as pd\n",
        "import numpy as np\n",
        "from sklearn.model_selection import train_test_split\n",
        "from sklearn.preprocessing import StandardScaler\n",
        "from sklearn.metrics import confusion_matrix, accuracy_score, f1_score, roc_auc_score, classification_report\n",
        "import matplotlib.pyplot as plt\n",
        "import seaborn as sns\n",
        "\n",
        "# Veri setini yükleme\n",
        "url = \"https://raw.githubusercontent.com/jbrownlee/Datasets/master/pima-indians-diabetes.data.csv\"\n",
        "columns = ['Pregnancies', 'Glucose', 'BloodPressure', 'SkinThickness', 'Insulin', 'BMI', 'DiabetesPedigreeFunction', 'Age', 'Outcome']\n",
        "data = pd.read_csv(url, header=None, names=columns)\n",
        "\n",
        "# İlk birkaç satırı inceleyelim\n",
        "print(data.head())\n",
        "\n",
        "# Eksik değerleri kontrol edelim\n",
        "print(data.isnull().sum())"
      ],
      "metadata": {
        "colab": {
          "base_uri": "https://localhost:8080/"
        },
        "id": "lGkZ3DFFlCMg",
        "outputId": "01601757-bf84-4a16-8234-4a608fee00a0"
      },
      "execution_count": 9,
      "outputs": [
        {
          "output_type": "stream",
          "name": "stdout",
          "text": [
            "   Pregnancies  Glucose  BloodPressure  SkinThickness  Insulin   BMI  \\\n",
            "0            6      148             72             35        0  33.6   \n",
            "1            1       85             66             29        0  26.6   \n",
            "2            8      183             64              0        0  23.3   \n",
            "3            1       89             66             23       94  28.1   \n",
            "4            0      137             40             35      168  43.1   \n",
            "\n",
            "   DiabetesPedigreeFunction  Age  Outcome  \n",
            "0                     0.627   50        1  \n",
            "1                     0.351   31        0  \n",
            "2                     0.672   32        1  \n",
            "3                     0.167   21        0  \n",
            "4                     2.288   33        1  \n",
            "Pregnancies                 0\n",
            "Glucose                     0\n",
            "BloodPressure               0\n",
            "SkinThickness               0\n",
            "Insulin                     0\n",
            "BMI                         0\n",
            "DiabetesPedigreeFunction    0\n",
            "Age                         0\n",
            "Outcome                     0\n",
            "dtype: int64\n"
          ]
        }
      ]
    },
    {
      "cell_type": "code",
      "source": [
        "# Veri setini özellikler ve hedef değişken olarak ayırma\n",
        "X = data.iloc[:, :-1].values\n",
        "y = data.iloc[:, -1].values\n",
        "\n",
        "# Veriyi eğitim ve test seti olarak ayırma\n",
        "X_train, X_test, y_train, y_test = train_test_split(X, y, test_size=0.3, random_state=0)"
      ],
      "metadata": {
        "id": "_6OnOqrZlGay"
      },
      "execution_count": 10,
      "outputs": []
    },
    {
      "cell_type": "code",
      "source": [
        "from sklearn.naive_bayes import GaussianNB\n",
        "\n",
        "# Naive Bayes modeli oluşturma\n",
        "nb = GaussianNB()\n",
        "\n",
        "# Modeli eğitim verisi ile eğitme\n",
        "nb.fit(X_train, y_train)\n",
        "\n",
        "# Test seti ile tahmin yapma\n",
        "y_pred_nb = nb.predict(X_test)\n",
        "\n",
        "# Sonuçları raporlama\n",
        "print(\"Naive Bayes Classifier Results:\")\n",
        "print(\"Confusion Matrix:\\n\", confusion_matrix(y_test, y_pred_nb))\n",
        "print(\"Accuracy:\", accuracy_score(y_test, y_pred_nb))\n",
        "print(\"F1 Score:\", f1_score(y_test, y_pred_nb))\n",
        "print(\"Classification Report:\\n\", classification_report(y_test, y_pred_nb))\n",
        "\n",
        "# ROC Curve\n",
        "nb_prob = nb.predict_proba(X_test)[:,1]\n",
        "roc_auc_nb = roc_auc_score(y_test, nb_prob)\n",
        "print(\"ROC AUC Score:\", roc_auc_nb)"
      ],
      "metadata": {
        "colab": {
          "base_uri": "https://localhost:8080/"
        },
        "id": "tG48LxcFlPde",
        "outputId": "9c1567be-9844-45b3-dadd-e789df6099f0"
      },
      "execution_count": 11,
      "outputs": [
        {
          "output_type": "stream",
          "name": "stdout",
          "text": [
            "Naive Bayes Classifier Results:\n",
            "Confusion Matrix:\n",
            " [[138  19]\n",
            " [ 36  38]]\n",
            "Accuracy: 0.7619047619047619\n",
            "F1 Score: 0.5801526717557252\n",
            "Classification Report:\n",
            "               precision    recall  f1-score   support\n",
            "\n",
            "           0       0.79      0.88      0.83       157\n",
            "           1       0.67      0.51      0.58        74\n",
            "\n",
            "    accuracy                           0.76       231\n",
            "   macro avg       0.73      0.70      0.71       231\n",
            "weighted avg       0.75      0.76      0.75       231\n",
            "\n",
            "ROC AUC Score: 0.8039249440523325\n"
          ]
        }
      ]
    },
    {
      "cell_type": "code",
      "source": [
        "from sklearn.neighbors import KNeighborsClassifier\n",
        "from sklearn.model_selection import cross_val_score\n",
        "\n",
        "# K değerlerini belirleme\n",
        "k_values = range(1, 21)\n",
        "k_scores = []\n",
        "\n",
        "for k in k_values:\n",
        "    knn = KNeighborsClassifier(n_neighbors=k)\n",
        "    scores = cross_val_score(knn, X_train, y_train, cv=10, scoring='accuracy')\n",
        "    k_scores.append(scores.mean())\n",
        "\n",
        "# En iyi K değerini belirleme\n",
        "best_k = k_values[np.argmax(k_scores)]\n",
        "print(\"Best K value:\", best_k)\n",
        "\n",
        "# En iyi K değeri ile model oluşturma\n",
        "knn = KNeighborsClassifier(n_neighbors=best_k)\n",
        "knn.fit(X_train, y_train)\n",
        "y_pred_knn = knn.predict(X_test)\n",
        "\n",
        "# Sonuçları raporlama\n",
        "print(\"K-NN Classifier Results:\")\n",
        "print(\"Confusion Matrix:\\n\", confusion_matrix(y_test, y_pred_knn))\n",
        "print(\"Accuracy:\", accuracy_score(y_test, y_pred_knn))\n",
        "print(\"F1 Score:\", f1_score(y_test, y_pred_knn))\n",
        "print(\"Classification Report:\\n\", classification_report(y_test, y_pred_knn))\n",
        "\n",
        "# ROC Curve\n",
        "knn_prob = knn.predict_proba(X_test)[:,1]\n",
        "roc_auc_knn = roc_auc_score(y_test, knn_prob)\n",
        "print(\"ROC AUC Score:\", roc_auc_knn)"
      ],
      "metadata": {
        "colab": {
          "base_uri": "https://localhost:8080/"
        },
        "id": "ZPBNoQ7slW1t",
        "outputId": "1e35af84-a46a-434a-9749-1320724ec67d"
      },
      "execution_count": 12,
      "outputs": [
        {
          "output_type": "stream",
          "name": "stdout",
          "text": [
            "Best K value: 11\n",
            "K-NN Classifier Results:\n",
            "Confusion Matrix:\n",
            " [[135  22]\n",
            " [ 35  39]]\n",
            "Accuracy: 0.7532467532467533\n",
            "F1 Score: 0.5777777777777778\n",
            "Classification Report:\n",
            "               precision    recall  f1-score   support\n",
            "\n",
            "           0       0.79      0.86      0.83       157\n",
            "           1       0.64      0.53      0.58        74\n",
            "\n",
            "    accuracy                           0.75       231\n",
            "   macro avg       0.72      0.69      0.70       231\n",
            "weighted avg       0.74      0.75      0.75       231\n",
            "\n",
            "ROC AUC Score: 0.7865381304871751\n"
          ]
        }
      ]
    },
    {
      "cell_type": "code",
      "source": [
        "from sklearn.neural_network import MLPClassifier\n",
        "from sklearn.svm import SVC\n",
        "\n",
        "# MLP Modeli\n",
        "mlp = MLPClassifier(random_state=0, max_iter=300)\n",
        "mlp.fit(X_train, y_train)\n",
        "y_pred_mlp = mlp.predict(X_test)\n",
        "\n",
        "print(\"MLP Classifier Results:\")\n",
        "print(\"Confusion Matrix:\\n\", confusion_matrix(y_test, y_pred_mlp))\n",
        "print(\"Accuracy:\", accuracy_score(y_test, y_pred_mlp))\n",
        "print(\"F1 Score:\", f1_score(y_test, y_pred_mlp))\n",
        "print(\"Classification Report:\\n\", classification_report(y_test, y_pred_mlp))\n",
        "\n",
        "# ROC Curve\n",
        "mlp_prob = mlp.predict_proba(X_test)[:,1]\n",
        "roc_auc_mlp = roc_auc_score(y_test, mlp_prob)\n",
        "print(\"ROC AUC Score:\", roc_auc_mlp)\n",
        "\n",
        "# SVM Modeli\n",
        "svm = SVC(probability=True, random_state=0)\n",
        "svm.fit(X_train, y_train)\n",
        "y_pred_svm = svm.predict(X_test)\n",
        "\n",
        "print(\"SVM Classifier Results:\")\n",
        "print(\"Confusion Matrix:\\n\", confusion_matrix(y_test, y_pred_svm))\n",
        "print(\"Accuracy:\", accuracy_score(y_test, y_pred_svm))\n",
        "print(\"F1 Score:\", f1_score(y_test, y_pred_svm))\n",
        "print(\"Classification Report:\\n\", classification_report(y_test, y_pred_svm))\n",
        "\n",
        "# ROC Curve\n",
        "svm_prob = svm.predict_proba(X_test)[:,1]\n",
        "roc_auc_svm = roc_auc_score(y_test, svm_prob)\n",
        "print(\"ROC AUC Score:\", roc_auc_svm)"
      ],
      "metadata": {
        "colab": {
          "base_uri": "https://localhost:8080/"
        },
        "id": "vOPGY99RlgfM",
        "outputId": "3a7cdc84-acb9-4242-c668-af202240a030"
      },
      "execution_count": 13,
      "outputs": [
        {
          "output_type": "stream",
          "name": "stdout",
          "text": [
            "MLP Classifier Results:\n",
            "Confusion Matrix:\n",
            " [[141  16]\n",
            " [ 56  18]]\n",
            "Accuracy: 0.6883116883116883\n",
            "F1 Score: 0.33333333333333337\n",
            "Classification Report:\n",
            "               precision    recall  f1-score   support\n",
            "\n",
            "           0       0.72      0.90      0.80       157\n",
            "           1       0.53      0.24      0.33        74\n",
            "\n",
            "    accuracy                           0.69       231\n",
            "   macro avg       0.62      0.57      0.56       231\n",
            "weighted avg       0.66      0.69      0.65       231\n",
            "\n",
            "ROC AUC Score: 0.6823033224307111\n",
            "SVM Classifier Results:\n",
            "Confusion Matrix:\n",
            " [[142  15]\n",
            " [ 42  32]]\n",
            "Accuracy: 0.7532467532467533\n",
            "F1 Score: 0.5289256198347106\n",
            "Classification Report:\n",
            "               precision    recall  f1-score   support\n",
            "\n",
            "           0       0.77      0.90      0.83       157\n",
            "           1       0.68      0.43      0.53        74\n",
            "\n",
            "    accuracy                           0.75       231\n",
            "   macro avg       0.73      0.67      0.68       231\n",
            "weighted avg       0.74      0.75      0.74       231\n",
            "\n",
            "ROC AUC Score: 0.813995524186607\n"
          ]
        }
      ]
    },
    {
      "cell_type": "code",
      "source": [
        "# Sonuçları DataFrame olarak toplama\n",
        "results = pd.DataFrame({\n",
        "    'Model': ['Naive Bayes', 'K-NN', 'MLP', 'SVM'],\n",
        "    'Accuracy': [accuracy_score(y_test, y_pred_nb), accuracy_score(y_test, y_pred_knn), accuracy_score(y_test, y_pred_mlp), accuracy_score(y_test, y_pred_svm)],\n",
        "    'F1 Score': [f1_score(y_test, y_pred_nb), f1_score(y_test, y_pred_knn), f1_score(y_test, y_pred_mlp), f1_score(y_test, y_pred_svm)],\n",
        "    'ROC AUC': [roc_auc_nb, roc_auc_knn, roc_auc_mlp, roc_auc_svm]\n",
        "})\n",
        "\n",
        "print(results)\n",
        "\n",
        "# Grafik çizimi\n",
        "results.plot(x='Model', y=['Accuracy', 'F1 Score', 'ROC AUC'], kind='bar', figsize=(10, 6))\n",
        "plt.title('Model Performance Comparison')\n",
        "plt.ylabel('Score')\n",
        "plt.xticks(rotation=45)\n",
        "plt.show()"
      ],
      "metadata": {
        "colab": {
          "base_uri": "https://localhost:8080/",
          "height": 708
        },
        "id": "L1hJx-6Mlpqq",
        "outputId": "7361a962-99fd-43a7-ee8b-6c7d6c778af0"
      },
      "execution_count": 14,
      "outputs": [
        {
          "output_type": "stream",
          "name": "stdout",
          "text": [
            "         Model  Accuracy  F1 Score   ROC AUC\n",
            "0  Naive Bayes  0.761905  0.580153  0.803925\n",
            "1         K-NN  0.753247  0.577778  0.786538\n",
            "2          MLP  0.688312  0.333333  0.682303\n",
            "3          SVM  0.753247  0.528926  0.813996\n"
          ]
        },
        {
          "output_type": "display_data",
          "data": {
            "text/plain": [
              "<Figure size 1000x600 with 1 Axes>"
            ],
            "image/png": "[encoded data removed]"
          },
          "metadata": {}
        }
      ]
    }
  ]
}